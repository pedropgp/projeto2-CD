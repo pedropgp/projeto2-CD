{
 "cells": [
  {
   "cell_type": "markdown",
   "metadata": {},
   "source": [
    "# Projeto 2 - Classificador Automático de Sentimento\n",
    "\n",
    "Você foi contratado por uma empresa parar analisar como os clientes estão reagindo a um determinado produto no Twitter. A empresa deseja que você crie um programa que irá analisar as mensagens disponíveis e classificará como \"relevante\" ou \"irrelevante\". Com isso ela deseja que mensagens negativas, que denigrem o nome do produto, ou que mereçam destaque, disparem um foco de atenção da área de marketing.<br /><br />\n",
    "Como aluno de Ciência dos Dados, você lembrou do Teorema de Bayes, mais especificamente do Classificador Naive-Bayes, que é largamente utilizado em filtros anti-spam de e-mails. O classificador permite calcular qual a probabilidade de uma mensagem ser relevante dadas as palavras em seu conteúdo.<br /><br />\n",
    "Para realizar o MVP (*minimum viable product*) do projeto, você precisa implementar uma versão do classificador que \"aprende\" o que é relevante com uma base de treinamento e compara a performance dos resultados com uma base de testes.<br /><br />\n",
    "Após validado, o seu protótipo poderá também capturar e classificar automaticamente as mensagens da plataforma.\n",
    "\n",
    "## Informações do Projeto\n",
    "\n",
    "Prazo: 19/Set até às 23:59.<br />\n",
    "Grupo: 2 ou 3 pessoas - grupos com 3 pessoas terá uma rubrica diferenciada.<br /><br />\n",
    "Entregáveis via GitHub: \n",
    "* Arquivo notebook com o código do classificador, seguindo as orientações abaixo.\n",
    "* Arquivo Excel com as bases de treinamento e teste totalmente classificado.\n",
    "\n",
    "**NÃO gravar a key do professor no arquivo**\n",
    "\n",
    "\n",
    "### Entrega Intermediária: Check 1 - APS 2\n",
    "\n",
    "Até o dia 10/Set às 23:59, xlsx deve estar no Github com as seguintes evidências: \n",
    "\n",
    "  * Produto escolhido.\n",
    "  * Arquivo Excel contendo a base de treinamento e a base de testes já classificadas.\n",
    "\n",
    "Sugestão de leitura:<br />\n",
    "https://monkeylearn.com/blog/practical-explanation-naive-bayes-classifier/"
   ]
  },
  {
   "cell_type": "markdown",
   "metadata": {},
   "source": [
    "___\n",
    "\n",
    "## Parte I - Adquirindo a Base de Dados\n",
    "\n",
    "Acessar o notebook **Projeto-2-Planilha** para realizar a coleta dos dados. O grupo deve classificar os dados coletados manualmente."
   ]
  },
  {
   "cell_type": "markdown",
   "metadata": {},
   "source": [
    "___\n",
    "## Parte II - Montando o Classificador Naive-Bayes\n",
    "\n",
    "Com a base de treinamento montada, comece a desenvolver o classificador. Não se esqueça de implementar o Laplace Smoothing (https://en.wikipedia.org/wiki/Laplace_smoothing).\n",
    "\n",
    "Opcionalmente: \n",
    "* Limpar as mensagens removendo os caracteres: enter, :, \", ', (, ), etc. Não remover emojis.<br />\n",
    "* Corrigir separação de espaços entre palavras e/ou emojis.\n",
    "* Propor outras limpezas/transformações que não afetem a qualidade da informação.\n",
    "\n",
    "Escreva o seu código abaixo:"
   ]
  },
  {
   "cell_type": "markdown",
   "metadata": {},
   "source": [
    "Importando as bibliotecas a serem utilizadas:"
   ]
  },
  {
   "cell_type": "code",
   "execution_count": 234,
   "metadata": {},
   "outputs": [],
   "source": [
    "import pandas as pd\n",
    "import matplotlib.pyplot as plt\n",
    "from scipy import stats\n",
    "from emoji import UNICODE_EMOJI"
   ]
  },
  {
   "cell_type": "markdown",
   "metadata": {},
   "source": [
    "Lendo a planilha de treinamento:"
   ]
  },
  {
   "cell_type": "code",
   "execution_count": 235,
   "metadata": {},
   "outputs": [],
   "source": [
    "treinamento = pd.read_excel('tweets_xbox_treinamento.xlsx')"
   ]
  },
  {
   "cell_type": "markdown",
   "metadata": {},
   "source": [
    "Limpando a base de treinamento:"
   ]
  },
  {
   "cell_type": "code",
   "execution_count": 236,
   "metadata": {},
   "outputs": [],
   "source": [
    "bad_char = [':', '.', ';', '\"', '?', '!', '{', '}', '*', '$', '[', ']', '(', ')', '/' '&', '<', '>', \"'\"]\n",
    "space_char = ['\\n', '\\t', ',']\n",
    "tweets = []\n",
    "treinamento_parcial = pd.DataFrame()\n",
    "\n",
    "for tweet in treinamento.Tweets:\n",
    "    x = ''\n",
    "    for i in range(len(tweet)):\n",
    "        if tweet[i] in UNICODE_EMOJI:\n",
    "            x = x + ' ' + tweet[i] + ' '\n",
    "        elif tweet[i] in space_char:\n",
    "            x = x + ' '\n",
    "        elif tweet[i] not in bad_char:\n",
    "            x = x + tweet[i]\n",
    "    tweets.append(x)\n",
    "treinamento_parcial['Tweets'] = tweets\n",
    "treinamento_parcial['Classificação'] = treinamento['Classificação']"
   ]
  },
  {
   "cell_type": "code",
   "execution_count": 237,
   "metadata": {},
   "outputs": [],
   "source": [
    "treinamento_limpo = pd.DataFrame()\n",
    "tweets = []\n",
    "tweet_final = ' '\n",
    "for tweet in treinamento_parcial.Tweets:\n",
    "    limpa_palavras = []\n",
    "    lista_palavras = tweet.split(' ')\n",
    "    for palavra in lista_palavras:\n",
    "        if palavra in UNICODE_EMOJI:\n",
    "            limpa_palavras.append(palavra)\n",
    "        elif len(palavra) > 2 and palavra[:4] != 'http' and palavra[0] != '@' \\\n",
    "        and palavra[0] != '#':\n",
    "            limpa_palavras.append(palavra)\n",
    "    tweets.append(tweet_final.join(limpa_palavras))\n",
    "treinamento_limpo['Tweets'] = tweets\n",
    "treinamento_limpo['Classificação'] = treinamento['Classificação']"
   ]
  },
  {
   "cell_type": "markdown",
   "metadata": {},
   "source": [
    "Listando todas as palavras e contando o número de palavras que pertencem a tweets relevantes e não relevantes:"
   ]
  },
  {
   "cell_type": "code",
   "execution_count": 238,
   "metadata": {},
   "outputs": [],
   "source": [
    "every_word = []\n",
    "\n",
    "for i in range(len(treinamento_limpo['Tweets'])):\n",
    "    lista_palavras = treinamento_limpo['Tweets'][i].split(' ')\n",
    "    for palavra in lista_palavras:\n",
    "        if palavra not in every_word:\n",
    "            every_word.append(palavra)\n",
    "            \n",
    "words_relevante = 0\n",
    "words_nao_relevante = 0\n",
    "\n",
    "for i in range(len(treinamento_limpo['Tweets'])):\n",
    "    lista_palavras = treinamento_limpo['Tweets'][i].split(' ')\n",
    "    if treinamento_limpo['Classificação'][i] == 1:\n",
    "        for palavra in lista_palavras:\n",
    "            words_relevante += 1\n",
    "    else:\n",
    "        for palavra in lista_palavras:\n",
    "            words_nao_relevante += 1"
   ]
  },
  {
   "cell_type": "markdown",
   "metadata": {},
   "source": [
    "Dicionarios com a frequencia das palavras: (Laplace Smoothing já implementado)"
   ]
  },
  {
   "cell_type": "code",
   "execution_count": 239,
   "metadata": {},
   "outputs": [],
   "source": [
    "relevante = {}\n",
    "nao_relevante = {}\n",
    "\n",
    "for word in every_word:\n",
    "    relevante[word] = 1\n",
    "    nao_relevante[word] = 1\n",
    "\n",
    "for i in range(len(treinamento_limpo['Tweets'])):\n",
    "    lista_palavras = treinamento_limpo['Tweets'][i].split(' ')\n",
    "    if treinamento_limpo['Classificação'][i] == 1:\n",
    "        for palavra in lista_palavras:\n",
    "            relevante[palavra] += 1\n",
    "    else:\n",
    "        for palavra in lista_palavras:\n",
    "            nao_relevante[palavra] += 1"
   ]
  },
  {
   "cell_type": "markdown",
   "metadata": {},
   "source": [
    "Calculando a P( palavra | relevante ) e P( palavra | não relevante ):"
   ]
  },
  {
   "cell_type": "code",
   "execution_count": 240,
   "metadata": {},
   "outputs": [],
   "source": [
    "P_relevante = {}\n",
    "P_nao_relevante = {}\n",
    "\n",
    "for palavra in every_word:\n",
    "    P_relevante[palavra] = relevante[palavra] / (words_relevante + len(every_word))\n",
    "    P_nao_relevante[palavra] = nao_relevante[palavra] / (words_nao_relevante + len(every_word))"
   ]
  },
  {
   "cell_type": "markdown",
   "metadata": {},
   "source": [
    "Calculando P( relevante ) e P( não relevante ):"
   ]
  },
  {
   "cell_type": "code",
   "execution_count": 241,
   "metadata": {},
   "outputs": [],
   "source": [
    "S_rel = 0\n",
    "S_nrel = 0\n",
    "for valor in treinamento_limpo['Classificação']:\n",
    "    if valor == 1:\n",
    "        S_rel += 1\n",
    "    else:\n",
    "        S_nrel += 1\n",
    "        \n",
    "P_rel = S_rel / len(treinamento_limpo['Classificação'])\n",
    "P_nrel = S_nrel / len(treinamento_limpo['Classificação'])"
   ]
  },
  {
   "cell_type": "markdown",
   "metadata": {},
   "source": [
    "___\n",
    "## Verificando a performance\n",
    "\n",
    "Agora você deve testar o seu Classificador com a base de Testes.<br /><br /> \n",
    "\n",
    "Você deve extrair as seguintes medidas:\n",
    "* Porcentagem de positivos falsos (marcados como relevante mas não são relevantes)\n",
    "* Porcentagem de positivos verdadeiros (marcado como relevante e são relevantes)\n",
    "* Porcentagem de negativos verdadeiros (marcado como não relevante e não são relevantes)\n",
    "* Porcentagem de negativos falsos (marcado como não relevante e são relevantes)\n",
    "\n",
    "Obrigatório para grupos de 3 alunos:\n",
    "* Criar categorias intermediárias de relevância baseado na diferença de probabilidades. Exemplo: muito relevante, relevante, neutro, irrelevante e muito irrelevante."
   ]
  },
  {
   "cell_type": "markdown",
   "metadata": {
    "scrolled": true
   },
   "source": [
    "Lendo a planilha de teste:"
   ]
  },
  {
   "cell_type": "code",
   "execution_count": 242,
   "metadata": {},
   "outputs": [],
   "source": [
    "teste = pd.read_excel('tweets_xbox_teste.xlsx')"
   ]
  },
  {
   "cell_type": "markdown",
   "metadata": {},
   "source": [
    "Limpando a planilha de teste:"
   ]
  },
  {
   "cell_type": "code",
   "execution_count": 243,
   "metadata": {},
   "outputs": [],
   "source": [
    "bad_char = [':', '.', ';', '\"', '?', '!', '{', '}', '*', '$', '[', ']', '(', ')', '/', '&', '<', '>', \"'\"]\n",
    "space_char = ['\\n', '\\t', ',']\n",
    "tweets = []\n",
    "teste_parcial = pd.DataFrame()\n",
    "\n",
    "for tweet in teste.Tweets:\n",
    "    x = ''\n",
    "    for i in range(len(tweet)):\n",
    "        if tweet[i] in UNICODE_EMOJI:\n",
    "            x = x + ' ' + tweet[i] + ' '\n",
    "        elif tweet[i] in space_char:\n",
    "            x = x + ' '\n",
    "        elif tweet[i] not in bad_char:\n",
    "            x = x + tweet[i]\n",
    "    tweets.append(x)\n",
    "teste_parcial['Tweets'] = tweets\n",
    "teste_parcial['Classificação'] = teste['Classificação']"
   ]
  },
  {
   "cell_type": "code",
   "execution_count": 244,
   "metadata": {},
   "outputs": [],
   "source": [
    "teste_limpo = pd.DataFrame()\n",
    "tweets = []\n",
    "tweet_final = ' '\n",
    "for tweet in teste_parcial.Tweets:\n",
    "    limpa_palavras = []\n",
    "    lista_palavras = tweet.split(' ')\n",
    "    for palavra in lista_palavras:\n",
    "        if palavra in UNICODE_EMOJI:\n",
    "            limpa_palavras.append(palavra)\n",
    "        elif len(palavra) > 2 and palavra[:4] != 'http' and palavra[0] != '@' \\\n",
    "        and palavra[0] != '#':\n",
    "            limpa_palavras.append(palavra)\n",
    "    tweets.append(tweet_final.join(limpa_palavras))\n",
    "teste_limpo['Tweets'] = tweets\n",
    "teste_limpo['Classificação'] = teste['Classificação']"
   ]
  },
  {
   "cell_type": "markdown",
   "metadata": {},
   "source": [
    "Prevendo se um tweet é relevante ou não:"
   ]
  },
  {
   "cell_type": "code",
   "execution_count": 253,
   "metadata": {},
   "outputs": [],
   "source": [
    "previsao = []\n",
    "for tweet in teste_limpo['Tweets']:\n",
    "    prob_r = 1\n",
    "    prob_nr = 1\n",
    "    frase = tweet.split(' ')\n",
    "    for palavra in frase:\n",
    "        if palavra in P_relevante:\n",
    "            prob_r *= P_relevante[palavra]\n",
    "        else:\n",
    "            prob_r *= (1 / (words_relevante + len(every_word)))\n",
    "    for palavra in frase:\n",
    "        if palavra in P_nao_relevante:\n",
    "            prob_nr *= P_nao_relevante[palavra]\n",
    "        else:\n",
    "            prob_nr *= (1 / (words_nao_relevante + len(every_word)))\n",
    "    relevant = prob_r * P_rel\n",
    "    not_relevant = prob_nr * P_nrel\n",
    "    if relevant > not_relevant:\n",
    "        previsao.append(1)\n",
    "    else:\n",
    "        previsao.append(0)\n",
    "    \n",
    "teste_limpo['Previsão'] = previsao"
   ]
  },
  {
   "cell_type": "markdown",
   "metadata": {},
   "source": [
    "Calculando as medidas pedidas:"
   ]
  },
  {
   "cell_type": "code",
   "execution_count": 252,
   "metadata": {},
   "outputs": [
    {
     "name": "stdout",
     "output_type": "stream",
     "text": [
      "Porcentagem de positivos falsos: 28.85%\n",
      "Porcentagem de positivos verdadeiros: 61.36%\n",
      "Porcentagem de negativos verdadeiros: 71.15%\n",
      "Porcentagem de negativos falsos: 38.64%\n"
     ]
    }
   ],
   "source": [
    "cr = 0\n",
    "cnr = 0\n",
    "for i in range(len(teste_limpo['Classificação'])):\n",
    "    if teste_limpo['Classificação'][i] == 1:\n",
    "        cr += 1\n",
    "    else:\n",
    "        cnr += 1\n",
    "\n",
    "prcr = 0\n",
    "pnrcr = 0\n",
    "prcnr = 0\n",
    "pnrcnr = 0\n",
    "\n",
    "for i in range(len(teste_limpo['Previsão'])):\n",
    "    if teste_limpo['Previsão'][i] == 1 and teste_limpo['Classificação'][i] == 1:\n",
    "        prcr += 1\n",
    "    elif teste_limpo['Previsão'][i] == 0 and teste_limpo['Classificação'][i] == 1:\n",
    "        pnrcr += 1\n",
    "    elif teste_limpo['Previsão'][i] == 1 and teste_limpo['Classificação'][i] == 0:\n",
    "        prcnr += 1\n",
    "    else:\n",
    "        pnrcnr += 1\n",
    "        \n",
    "P_pos_falso = prcnr / cnr\n",
    "P_pos_verdadeiro = prcr / cr\n",
    "P_neg_verdadeiro = pnrcnr / cnr\n",
    "P_neg_falso = pnrcr / cr\n",
    "\n",
    "print('Porcentagem de positivos falsos: {0:.2f}%'.format(P_pos_falso * 100))\n",
    "print('Porcentagem de positivos verdadeiros: {0:.2f}%'.format(P_pos_verdadeiro * 100))\n",
    "print('Porcentagem de negativos verdadeiros: {0:.2f}%'.format(P_neg_verdadeiro * 100))\n",
    "print('Porcentagem de negativos falsos: {0:.2f}%'.format(P_neg_falso * 100))"
   ]
  },
  {
   "cell_type": "markdown",
   "metadata": {},
   "source": [
    "___\n",
    "## Concluindo\n",
    "\n",
    "Escreva aqui a sua conclusão.<br /> \n",
    "Faça um comparativo qualitativo sobre as medidas obtidas.<br />\n",
    "Explique como são tratadas as mensagens com dupla negação e sarcasmo.<br />\n",
    "Proponha um plano de expansão. Por que eles devem continuar financiando o seu projeto?<br />\n",
    "\n",
    "Opcionalmente: \n",
    "* Discorrer por que não posso alimentar minha base de Treinamento automaticamente usando o próprio classificador, aplicado a novos tweets.\n",
    "* Propor diferentes cenários de uso para o classificador Naive-Bayes. Cenários sem intersecção com este projeto.\n",
    "* Sugerir e explicar melhorias reais no classificador com indicações concretas de como implementar (não é preciso codificar, mas indicar como fazer e material de pesquisa sobre o assunto).\n"
   ]
  },
  {
   "cell_type": "code",
   "execution_count": null,
   "metadata": {},
   "outputs": [],
   "source": []
  },
  {
   "cell_type": "code",
   "execution_count": null,
   "metadata": {},
   "outputs": [],
   "source": []
  },
  {
   "cell_type": "code",
   "execution_count": null,
   "metadata": {},
   "outputs": [],
   "source": []
  }
 ],
 "metadata": {
  "kernelspec": {
   "display_name": "Python 3",
   "language": "python",
   "name": "python3"
  },
  "language_info": {
   "codemirror_mode": {
    "name": "ipython",
    "version": 3
   },
   "file_extension": ".py",
   "mimetype": "text/x-python",
   "name": "python",
   "nbconvert_exporter": "python",
   "pygments_lexer": "ipython3",
   "version": "3.6.4"
  }
 },
 "nbformat": 4,
 "nbformat_minor": 2
}
